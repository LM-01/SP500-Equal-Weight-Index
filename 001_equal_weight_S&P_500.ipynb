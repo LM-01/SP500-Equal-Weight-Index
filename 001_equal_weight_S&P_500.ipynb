{
 "cells": [
  {
   "cell_type": "markdown",
   "metadata": {},
   "source": [
    "# Equal-Weight S&P 500 Index Fund\n",
    "\n",
    "## Introduction & Library Imports\n",
    "\n",
    "The S&P 500 is the world's most popular stock market index. The largest fund that is benchmarked to this index is the SPDR® S&P 500® ETF Trust. It has more than US$250 billion of assets under management.\n",
    "\n",
    "The goal of this section of the course is to create a Python script that will accept the value of your portfolio and tell you how many shares of each S&P 500 constituent you should purchase to get an equal-weight version of the index fund.\n",
    "\n",
    "## Library Imports\n",
    "\n",
    "The first thing we need to do is import the open-source software libraries that we'll be using in this tutorial."
   ]
  },
  {
   "cell_type": "code",
   "execution_count": 1,
   "metadata": {},
   "outputs": [],
   "source": [
    "import numpy as np\n",
    "import pandas as pd\n",
    "import requests\n",
    "import xlsxwriter\n",
    "import math"
   ]
  },
  {
   "cell_type": "markdown",
   "metadata": {},
   "source": [
    "## Importing Our List of Stocks\n",
    "\n",
    "The next thing we need to do is import the constituents of the S&P 500.\n",
    "\n",
    "These constituents change over time, so in an ideal world you would connect directly to the index provider (Standard & Poor's) and pull their real-time constituents on a regular basis.\n",
    "\n",
    "Paying for access to the index provider's API is outside of the scope of this course. \n",
    "\n",
    "There's a static version of the S&P 500 constituents available here. [Click this link to download them now](https://drive.google.com/file/d/1ZJSpbY69DVckVZlO9cC6KkgfSufybcHN/view?usp=sharing). Move this file into the `starter-files` folder so it can be accessed by other files in that directory.\n",
    "\n",
    "Now it's time to import these stocks to our Jupyter Notebook file."
   ]
  },
  {
   "cell_type": "code",
   "execution_count": 2,
   "metadata": {},
   "outputs": [
    {
     "data": {
      "text/html": [
       "<div>\n",
       "<style scoped>\n",
       "    .dataframe tbody tr th:only-of-type {\n",
       "        vertical-align: middle;\n",
       "    }\n",
       "\n",
       "    .dataframe tbody tr th {\n",
       "        vertical-align: top;\n",
       "    }\n",
       "\n",
       "    .dataframe thead th {\n",
       "        text-align: right;\n",
       "    }\n",
       "</style>\n",
       "<table border=\"1\" class=\"dataframe\">\n",
       "  <thead>\n",
       "    <tr style=\"text-align: right;\">\n",
       "      <th></th>\n",
       "      <th>Ticker</th>\n",
       "    </tr>\n",
       "  </thead>\n",
       "  <tbody>\n",
       "    <tr>\n",
       "      <th>0</th>\n",
       "      <td>A</td>\n",
       "    </tr>\n",
       "    <tr>\n",
       "      <th>1</th>\n",
       "      <td>AAL</td>\n",
       "    </tr>\n",
       "    <tr>\n",
       "      <th>2</th>\n",
       "      <td>AAP</td>\n",
       "    </tr>\n",
       "    <tr>\n",
       "      <th>3</th>\n",
       "      <td>AAPL</td>\n",
       "    </tr>\n",
       "    <tr>\n",
       "      <th>4</th>\n",
       "      <td>ABBV</td>\n",
       "    </tr>\n",
       "    <tr>\n",
       "      <th>...</th>\n",
       "      <td>...</td>\n",
       "    </tr>\n",
       "    <tr>\n",
       "      <th>500</th>\n",
       "      <td>YUM</td>\n",
       "    </tr>\n",
       "    <tr>\n",
       "      <th>501</th>\n",
       "      <td>ZBH</td>\n",
       "    </tr>\n",
       "    <tr>\n",
       "      <th>502</th>\n",
       "      <td>ZBRA</td>\n",
       "    </tr>\n",
       "    <tr>\n",
       "      <th>503</th>\n",
       "      <td>ZION</td>\n",
       "    </tr>\n",
       "    <tr>\n",
       "      <th>504</th>\n",
       "      <td>ZTS</td>\n",
       "    </tr>\n",
       "  </tbody>\n",
       "</table>\n",
       "<p>505 rows × 1 columns</p>\n",
       "</div>"
      ],
      "text/plain": [
       "    Ticker\n",
       "0        A\n",
       "1      AAL\n",
       "2      AAP\n",
       "3     AAPL\n",
       "4     ABBV\n",
       "..     ...\n",
       "500    YUM\n",
       "501    ZBH\n",
       "502   ZBRA\n",
       "503   ZION\n",
       "504    ZTS\n",
       "\n",
       "[505 rows x 1 columns]"
      ]
     },
     "execution_count": 2,
     "metadata": {},
     "output_type": "execute_result"
    }
   ],
   "source": [
    "stocks = pd.read_csv('sp_500_stocks.csv')\n",
    "stocks"
   ]
  },
  {
   "cell_type": "markdown",
   "metadata": {},
   "source": [
    "## Acquiring an API Token\n",
    "\n",
    "Now it's time to import our IEX Cloud API token. This is the data provider that we will be using throughout this course.\n",
    "\n",
    "API tokens (and other sensitive information) should be stored in a `secrets.py` file that doesn't get pushed to your local Git repository. We'll be using a sandbox API token in this course, which means that the data we'll use is randomly-generated and (more importantly) has no cost associated with it.\n",
    "\n",
    "[Click here](http://nickmccullum.com/algorithmic-trading-python/secrets.py) to download your `secrets.py` file. Move the file into the same directory as this Jupyter Notebook before proceeding."
   ]
  },
  {
   "cell_type": "code",
   "execution_count": 3,
   "metadata": {},
   "outputs": [],
   "source": [
    "from secrets import IEX_CLOUD_API_TOKEN"
   ]
  },
  {
   "cell_type": "markdown",
   "metadata": {},
   "source": [
    "## Making Our First API Call\n",
    "\n",
    "Now it's time to structure our API calls to IEX cloud. \n",
    "\n",
    "We need the following information from the API:\n",
    "\n",
    "* Market capitalization for each stock\n",
    "* Price of each stock\n",
    "\n"
   ]
  },
  {
   "cell_type": "code",
   "execution_count": 4,
   "metadata": {},
   "outputs": [
    {
     "name": "stdout",
     "output_type": "stream",
     "text": [
      "{'symbol': 'AAPL', 'companyName': 'Apple Inc', 'primaryExchange': '/BGEARMG OTA AASSELECL N)TLDS(NKQ', 'calculationPrice': 'tops', 'open': None, 'openTime': None, 'openSource': 'oiifalcf', 'close': None, 'closeTime': None, 'closeSource': 'olfafici', 'high': None, 'highTime': None, 'highSource': None, 'low': None, 'lowTime': None, 'lowSource': None, 'latestPrice': 125.348, 'latestSource': 'IEX real time price', 'latestTime': '3:38:50 PM', 'latestUpdate': 1622036918060, 'latestVolume': None, 'iexRealtimePrice': 130.956, 'iexRealtimeSize': 102, 'iexLastUpdated': 1692943566017, 'delayedPrice': None, 'delayedPriceTime': None, 'oddLotDelayedPrice': None, 'oddLotDelayedPriceTime': None, 'extendedPrice': None, 'extendedChange': None, 'extendedChangePercent': None, 'extendedPriceTime': None, 'previousClose': 127.54, 'previousVolume': 120892981, 'change': -0.465, 'changePercent': -0.0039, 'volume': None, 'iexMarketPercent': 0.01790872240783904, 'iexVolume': 1686481, 'avgTotalVolume': 120875569, 'iexBidPrice': 123.26, 'iexBidSize': 103, 'iexAskPrice': 126.34, 'iexAskSize': 103, 'iexOpen': 130.3, 'iexOpenTime': 1695190378298, 'iexClose': 130.586, 'iexCloseTime': 1638087791679, 'marketCap': 2205063056840, 'peRatio': 35, 'week52High': 146.3, 'week52Low': 54.19, 'ytdChange': -0.05634616461464549, 'lastTradeTime': 1696287730751, 'isUSMarketOpen': True}\n"
     ]
    }
   ],
   "source": [
    "symbol = 'AAPL'\n",
    "api_url = f'https://sandbox.iexapis.com/stable/stock/{symbol}/quote/?token={IEX_CLOUD_API_TOKEN}'\n",
    "data = requests.get(api_url).json()\n",
    "print(data)"
   ]
  },
  {
   "cell_type": "markdown",
   "metadata": {},
   "source": [
    "## Parsing Our API Call\n",
    "\n",
    "The API call that we executed in the last code block contains all of the information required to build our equal-weight S&P 500 strategy. \n",
    "\n",
    "With that said, the data isn't in a proper format yet. We need to parse it first."
   ]
  },
  {
   "cell_type": "code",
   "execution_count": 5,
   "metadata": {},
   "outputs": [],
   "source": [
    "price = data['latestPrice']\n",
    "market_cap = data['marketCap']"
   ]
  },
  {
   "cell_type": "markdown",
   "metadata": {},
   "source": [
    "## Adding Our Stocks Data to a Pandas DataFrame\n",
    "\n",
    "The next thing we need to do is add our stock's price and market capitalization to a pandas DataFrame. Think of a DataFrame like the Python version of a spreadsheet. It stores tabular data."
   ]
  },
  {
   "cell_type": "code",
   "execution_count": 38,
   "metadata": {},
   "outputs": [
    {
     "name": "stdout",
     "output_type": "stream",
     "text": [
      "{'YUM': {'quote': {'symbol': 'YUM', 'companyName': 'Yum Brands Inc.', 'primaryExchange': 'YSRCA.XN GENK,IT  OKNHCWC EEO', 'calculationPrice': 'tops', 'open': None, 'openTime': None, 'openSource': 'ciifolaf', 'close': None, 'closeTime': None, 'closeSource': 'aoffiilc', 'high': None, 'highTime': 1657891000594, 'highSource': 'd r epd1tu mielyine5cae', 'low': None, 'lowTime': 1648576983371, 'lowSource': 'yme lup dct 1driie5naee', 'latestPrice': 111.42, 'latestSource': 'IEX real time price', 'latestTime': '3:53:13 PM', 'latestUpdate': 1681586221322, 'latestVolume': None, 'iexRealtimePrice': 113.807, 'iexRealtimeSize': 10, 'iexLastUpdated': 1676856268502, 'delayedPrice': None, 'delayedPriceTime': None, 'oddLotDelayedPrice': None, 'oddLotDelayedPriceTime': None, 'extendedPrice': None, 'extendedChange': None, 'extendedChangePercent': None, 'extendedPriceTime': None, 'previousClose': 111.4, 'previousVolume': 2323971, 'change': 2.226, 'changePercent': 0.0206, 'volume': None, 'iexMarketPercent': 0.064455008971049, 'iexVolume': 146225, 'avgTotalVolume': 1969396, 'iexBidPrice': 0, 'iexBidSize': 0, 'iexAskPrice': 0, 'iexAskSize': 0, 'iexOpen': 112.11, 'iexOpenTime': 1656822654532, 'iexClose': 113.379, 'iexCloseTime': 1676560526511, 'marketCap': 34009006103, 'peRatio': 37.79, 'week52High': 115.12, 'week52Low': 54.1, 'ytdChange': 0.02755514619008234, 'lastTradeTime': 1659525126253, 'isUSMarketOpen': True}}, 'ZBH': {'quote': {'symbol': 'ZBH', 'companyName': 'Zimmer Biomet Holdings Inc', 'primaryExchange': 'INHRNEC. GW EYO T ,ASKKNECXOC', 'calculationPrice': 'tops', 'open': None, 'openTime': None, 'openSource': 'focifila', 'close': None, 'closeTime': None, 'closeSource': 'ofilafic', 'high': None, 'highTime': 1643214559499, 'highSource': 'rye ae51em tcineid uldp', 'low': None, 'lowTime': 1690202950856, 'lowSource': 'iiu   leyedcetr15emapdn', 'latestPrice': 163, 'latestSource': 'IEX real time price', 'latestTime': '3:53:00 PM', 'latestUpdate': 1644002764010, 'latestVolume': None, 'iexRealtimePrice': 161.79, 'iexRealtimeSize': 101, 'iexLastUpdated': 1642543049943, 'delayedPrice': None, 'delayedPriceTime': None, 'oddLotDelayedPrice': None, 'oddLotDelayedPriceTime': None, 'extendedPrice': None, 'extendedChange': None, 'extendedChangePercent': None, 'extendedPriceTime': None, 'previousClose': 165.56, 'previousVolume': 1018564, 'change': 0.44, 'changePercent': 0.00289, 'volume': None, 'iexMarketPercent': 0.07577924512439038, 'iexVolume': 57345, 'avgTotalVolume': 1381770, 'iexBidPrice': 0, 'iexBidSize': 0, 'iexAskPrice': 164.35, 'iexAskSize': 105, 'iexOpen': 164.99, 'iexOpenTime': 1649052598329, 'iexClose': 167.4, 'iexCloseTime': 1690464470708, 'marketCap': 34920960777, 'peRatio': -249.59, 'week52High': 172.2, 'week52Low': 75.1, 'ytdChange': 0.04421832644883086, 'lastTradeTime': 1678745300682, 'isUSMarketOpen': True}}, 'ZBRA': {'quote': {'symbol': 'ZBRA', 'companyName': 'Zebra Technologies Corp. - Class A', 'primaryExchange': ' L(SRA AQE)EAGCN/KLM GONTBDSSLATE', 'calculationPrice': 'tops', 'open': None, 'openTime': None, 'openSource': 'iflifcao', 'close': None, 'closeTime': None, 'closeSource': 'flcaoiif', 'high': None, 'highTime': None, 'highSource': None, 'low': None, 'lowTime': 1642846644085, 'lowSource': 'ciX r mIpe teaEeirl', 'latestPrice': 476.08, 'latestSource': 'IEX real time price', 'latestTime': '3:53:08 PM', 'latestUpdate': 1672195945435, 'latestVolume': None, 'iexRealtimePrice': 481.45, 'iexRealtimeSize': 115, 'iexLastUpdated': 1627937721048, 'delayedPrice': None, 'delayedPriceTime': None, 'oddLotDelayedPrice': None, 'oddLotDelayedPriceTime': None, 'extendedPrice': None, 'extendedChange': None, 'extendedChangePercent': None, 'extendedPriceTime': None, 'previousClose': 493.1, 'previousVolume': 238419, 'change': -0.182, 'changePercent': -0.00037, 'volume': None, 'iexMarketPercent': 0.0731988330640888, 'iexVolume': 15906, 'avgTotalVolume': 500803, 'iexBidPrice': 0, 'iexBidSize': 0, 'iexAskPrice': 0, 'iexAskSize': 0, 'iexOpen': 479.88, 'iexOpenTime': 1624714389071, 'iexClose': 492.28, 'iexCloseTime': 1653140325063, 'marketCap': 25706208343, 'peRatio': 51.54, 'week52High': 520.64, 'week52Low': 166.53, 'ytdChange': 0.24374475746334662, 'lastTradeTime': 1624534739063, 'isUSMarketOpen': True}}, 'ZION': {'quote': {'symbol': 'ZION', 'companyName': 'Zions Bancorporation N.A', 'primaryExchange': ' AE ENLKQ/CTNASGRLTLE) MOA(SBAGDS', 'calculationPrice': 'tops', 'open': None, 'openTime': None, 'openSource': 'olfifiac', 'close': None, 'closeTime': None, 'closeSource': 'ciloffai', 'high': None, 'highTime': None, 'highSource': None, 'low': None, 'lowTime': None, 'lowSource': None, 'latestPrice': 58.98, 'latestSource': 'IEX real time price', 'latestTime': '3:53:05 PM', 'latestUpdate': 1626169389038, 'latestVolume': None, 'iexRealtimePrice': 58.58, 'iexRealtimeSize': 105, 'iexLastUpdated': 1672164871605, 'delayedPrice': None, 'delayedPriceTime': None, 'oddLotDelayedPrice': None, 'oddLotDelayedPriceTime': None, 'extendedPrice': None, 'extendedChange': None, 'extendedChangePercent': None, 'extendedPriceTime': None, 'previousClose': 58.6, 'previousVolume': 1081258, 'change': 0.13, 'changePercent': 0.0023, 'volume': None, 'iexMarketPercent': 0.05057546723937359, 'iexVolume': 54605, 'avgTotalVolume': 1465100, 'iexBidPrice': 59.06, 'iexBidSize': 307, 'iexAskPrice': 58.99, 'iexAskSize': 307, 'iexOpen': 58.63, 'iexOpenTime': 1636046219373, 'iexClose': 57.97, 'iexCloseTime': 1641713559633, 'marketCap': 9576004249, 'peRatio': 8.9, 'week52High': 61.1, 'week52Low': 23.83, 'ytdChange': 0.32421260620548, 'lastTradeTime': 1671522029976, 'isUSMarketOpen': True}}, 'ZTS': {'quote': {'symbol': 'ZTS', 'companyName': 'Zoetis Inc - Class A', 'primaryExchange': '  AS.ETOWCEN HGNRCKI ONX,CEKY', 'calculationPrice': 'tops', 'open': None, 'openTime': None, 'openSource': 'ilocfafi', 'close': None, 'closeTime': None, 'closeSource': 'coiflifa', 'high': None, 'highTime': 1627703600620, 'highSource': 'iedue5nyea t1c dmielrp ', 'low': None, 'lowTime': 1636169367031, 'lowSource': 'emp c5e eltuyead1 diirn', 'latestPrice': 156.57, 'latestSource': 'IEX real time price', 'latestTime': '3:53:14 PM', 'latestUpdate': 1654222315925, 'latestVolume': None, 'iexRealtimePrice': 161.1, 'iexRealtimeSize': 20, 'iexLastUpdated': 1664986707237, 'delayedPrice': None, 'delayedPriceTime': None, 'oddLotDelayedPrice': None, 'oddLotDelayedPriceTime': None, 'extendedPrice': None, 'extendedChange': None, 'extendedChangePercent': None, 'extendedPriceTime': None, 'previousClose': 160.81, 'previousVolume': 1690928, 'change': 1.18, 'changePercent': 0.00763, 'volume': None, 'iexMarketPercent': 0.04643764811721404, 'iexVolume': 93106, 'avgTotalVolume': 2559266, 'iexBidPrice': 151.1, 'iexBidSize': 201, 'iexAskPrice': 160.94, 'iexAskSize': 103, 'iexOpen': 161.54, 'iexOpenTime': 1696359515138, 'iexClose': 163.88, 'iexCloseTime': 1672679834154, 'marketCap': 75785584030, 'peRatio': 47.06, 'week52High': 179.88, 'week52Low': 93.74, 'ytdChange': -0.05620013569955653, 'lastTradeTime': 1619131213076, 'isUSMarketOpen': True}}}\n"
     ]
    }
   ],
   "source": [
    "my_columns = ['Ticker','Price','Market Capitalization','Number Of Shares to Buy']\n",
    "df = pd.DataFrame(columns = my_columns)\n",
    "\n",
    "print(data)"
   ]
  },
  {
   "cell_type": "code",
   "execution_count": 39,
   "metadata": {},
   "outputs": [
    {
     "data": {
      "text/html": [
       "<div>\n",
       "<style scoped>\n",
       "    .dataframe tbody tr th:only-of-type {\n",
       "        vertical-align: middle;\n",
       "    }\n",
       "\n",
       "    .dataframe tbody tr th {\n",
       "        vertical-align: top;\n",
       "    }\n",
       "\n",
       "    .dataframe thead th {\n",
       "        text-align: right;\n",
       "    }\n",
       "</style>\n",
       "<table border=\"1\" class=\"dataframe\">\n",
       "  <thead>\n",
       "    <tr style=\"text-align: right;\">\n",
       "      <th></th>\n",
       "      <th>Ticker</th>\n",
       "      <th>Price</th>\n",
       "      <th>Market Capitalization</th>\n",
       "      <th>Number Of Shares to Buy</th>\n",
       "    </tr>\n",
       "  </thead>\n",
       "  <tbody>\n",
       "    <tr>\n",
       "      <th>0</th>\n",
       "      <td>ZTS</td>\n",
       "      <td>125.348</td>\n",
       "      <td>2205063056840</td>\n",
       "      <td>N/A</td>\n",
       "    </tr>\n",
       "  </tbody>\n",
       "</table>\n",
       "</div>"
      ],
      "text/plain": [
       "  Ticker    Price Market Capitalization Number Of Shares to Buy\n",
       "0    ZTS  125.348         2205063056840                     N/A"
      ]
     },
     "execution_count": 39,
     "metadata": {},
     "output_type": "execute_result"
    }
   ],
   "source": [
    "df.append(pd.Series([symbol,price,market_cap,'N/A'], index=my_columns),ignore_index=True)"
   ]
  },
  {
   "cell_type": "markdown",
   "metadata": {},
   "source": [
    "## Looping Through The Tickers in Our List of Stocks\n",
    "\n",
    "Using the same logic that we outlined above, we can pull data for all S&P 500 stocks and store their data in the DataFrame using a `for` loop."
   ]
  },
  {
   "cell_type": "code",
   "execution_count": 40,
   "metadata": {},
   "outputs": [],
   "source": [
    "final_dataframe = pd.DataFrame(columns=my_columns)\n",
    "for symbol in stocks['Ticker'][:5]:\n",
    "    api_url = f'https://sandbox.iexapis.com/stable/stock/{symbol}/quote/?token={IEX_CLOUD_API_TOKEN}'\n",
    "    data = requests.get(api_url).json()\n",
    "    final_dataframe = final_dataframe.append(pd.Series([symbol, data['latestPrice'], data['marketCap'],'N/A'], index=my_columns),ignore_index=True)"
   ]
  },
  {
   "cell_type": "markdown",
   "metadata": {},
   "source": [
    "## Using Batch API Calls to Improve Performance\n",
    "\n",
    "Batch API calls are one of the easiest ways to improve the performance of your code.\n",
    "\n",
    "This is because HTTP requests are typically one of the slowest components of a script.\n",
    "\n",
    "Also, API providers will often give you discounted rates for using batch API calls since they are easier for the API provider to respond to.\n",
    "\n",
    "IEX Cloud limits their batch API calls to 100 tickers per request. Still, this reduces the number of API calls we'll make in this section from 500 to 5 - huge improvement! In this section, we'll split our list of stocks into groups of 100 and then make a batch API call for each group."
   ]
  },
  {
   "cell_type": "code",
   "execution_count": 41,
   "metadata": {
    "scrolled": true
   },
   "outputs": [
    {
     "data": {
      "text/html": [
       "<div>\n",
       "<style scoped>\n",
       "    .dataframe tbody tr th:only-of-type {\n",
       "        vertical-align: middle;\n",
       "    }\n",
       "\n",
       "    .dataframe tbody tr th {\n",
       "        vertical-align: top;\n",
       "    }\n",
       "\n",
       "    .dataframe thead th {\n",
       "        text-align: right;\n",
       "    }\n",
       "</style>\n",
       "<table border=\"1\" class=\"dataframe\">\n",
       "  <thead>\n",
       "    <tr style=\"text-align: right;\">\n",
       "      <th></th>\n",
       "      <th>Ticker</th>\n",
       "      <th>Price</th>\n",
       "      <th>Market Capitalization</th>\n",
       "      <th>Number Of Shares to Buy</th>\n",
       "    </tr>\n",
       "  </thead>\n",
       "  <tbody>\n",
       "    <tr>\n",
       "      <th>0</th>\n",
       "      <td>A</td>\n",
       "      <td>125.590</td>\n",
       "      <td>37677390127</td>\n",
       "      <td>N/A</td>\n",
       "    </tr>\n",
       "    <tr>\n",
       "      <th>1</th>\n",
       "      <td>AAL</td>\n",
       "      <td>25.153</td>\n",
       "      <td>16766776851</td>\n",
       "      <td>N/A</td>\n",
       "    </tr>\n",
       "    <tr>\n",
       "      <th>2</th>\n",
       "      <td>AAP</td>\n",
       "      <td>182.310</td>\n",
       "      <td>12437224197</td>\n",
       "      <td>N/A</td>\n",
       "    </tr>\n",
       "    <tr>\n",
       "      <th>3</th>\n",
       "      <td>AAPL</td>\n",
       "      <td>129.308</td>\n",
       "      <td>2143081219051</td>\n",
       "      <td>N/A</td>\n",
       "    </tr>\n",
       "    <tr>\n",
       "      <th>4</th>\n",
       "      <td>ABBV</td>\n",
       "      <td>105.750</td>\n",
       "      <td>190163575494</td>\n",
       "      <td>N/A</td>\n",
       "    </tr>\n",
       "    <tr>\n",
       "      <th>...</th>\n",
       "      <td>...</td>\n",
       "      <td>...</td>\n",
       "      <td>...</td>\n",
       "      <td>...</td>\n",
       "    </tr>\n",
       "    <tr>\n",
       "      <th>500</th>\n",
       "      <td>YUM</td>\n",
       "      <td>112.270</td>\n",
       "      <td>33478980633</td>\n",
       "      <td>N/A</td>\n",
       "    </tr>\n",
       "    <tr>\n",
       "      <th>501</th>\n",
       "      <td>ZBH</td>\n",
       "      <td>167.170</td>\n",
       "      <td>33893555650</td>\n",
       "      <td>N/A</td>\n",
       "    </tr>\n",
       "    <tr>\n",
       "      <th>502</th>\n",
       "      <td>ZBRA</td>\n",
       "      <td>489.195</td>\n",
       "      <td>26247391988</td>\n",
       "      <td>N/A</td>\n",
       "    </tr>\n",
       "    <tr>\n",
       "      <th>503</th>\n",
       "      <td>ZION</td>\n",
       "      <td>57.880</td>\n",
       "      <td>9402929393</td>\n",
       "      <td>N/A</td>\n",
       "    </tr>\n",
       "    <tr>\n",
       "      <th>504</th>\n",
       "      <td>ZTS</td>\n",
       "      <td>162.740</td>\n",
       "      <td>75519377266</td>\n",
       "      <td>N/A</td>\n",
       "    </tr>\n",
       "  </tbody>\n",
       "</table>\n",
       "<p>505 rows × 4 columns</p>\n",
       "</div>"
      ],
      "text/plain": [
       "    Ticker    Price Market Capitalization Number Of Shares to Buy\n",
       "0        A  125.590           37677390127                     N/A\n",
       "1      AAL   25.153           16766776851                     N/A\n",
       "2      AAP  182.310           12437224197                     N/A\n",
       "3     AAPL  129.308         2143081219051                     N/A\n",
       "4     ABBV  105.750          190163575494                     N/A\n",
       "..     ...      ...                   ...                     ...\n",
       "500    YUM  112.270           33478980633                     N/A\n",
       "501    ZBH  167.170           33893555650                     N/A\n",
       "502   ZBRA  489.195           26247391988                     N/A\n",
       "503   ZION   57.880            9402929393                     N/A\n",
       "504    ZTS  162.740           75519377266                     N/A\n",
       "\n",
       "[505 rows x 4 columns]"
      ]
     },
     "execution_count": 41,
     "metadata": {},
     "output_type": "execute_result"
    }
   ],
   "source": [
    "def chunks(lst, n):\n",
    "    \"\"\"Yield successive n-sized chunks from lst.\"\"\"\n",
    "    for i in range(0, len(lst), n):\n",
    "        yield lst[i:i + n]\n",
    "\n",
    "symbol_groups = list(chunks(stocks['Ticker'],100))\n",
    "symbol_strings = []\n",
    "#Join the Groups into Strings\n",
    "for i in range(0, len(symbol_groups)):\n",
    "    symbol_strings.append(','.join(symbol_groups[i]))\n",
    "\n",
    "\n",
    "final_dataframe = pd.DataFrame(columns = my_columns)\n",
    "#Make the Batch Call\n",
    "for symbol_string in symbol_strings:\n",
    "#     print(symbol_strings)\n",
    "    batch_api_call_url = f'https://sandbox.iexapis.com/stable/stock/market/batch/?types=quote&symbols={symbol_string}&token={IEX_CLOUD_API_TOKEN}'\n",
    "#     print(batch_api_call_url)\n",
    "    data = requests.get(batch_api_call_url).json()\n",
    "#     print(data)\n",
    "    \n",
    "    #Get data and append to finalDF\n",
    "    for symbol in symbol_string.split(','):\n",
    "        final_dataframe = final_dataframe.append(\n",
    "            pd.Series(\n",
    "            [symbol, \n",
    "            data[symbol]['quote']['latestPrice'],\n",
    "            data[symbol]['quote']['marketCap'],\n",
    "            'N/A'], index= my_columns\n",
    "            ),\n",
    "            ignore_index = True\n",
    "        )\n",
    "\n",
    "final_dataframe"
   ]
  },
  {
   "cell_type": "markdown",
   "metadata": {},
   "source": [
    "## Calculating the Number of Shares to Buy\n",
    "\n",
    "As you can see in the DataFrame above, we stil haven't calculated the number of shares of each stock to buy.\n",
    "\n",
    "We'll do that next."
   ]
  },
  {
   "cell_type": "code",
   "execution_count": 42,
   "metadata": {},
   "outputs": [
    {
     "name": "stdout",
     "output_type": "stream",
     "text": [
      "Enter the value of your portfolio:4881818\n"
     ]
    }
   ],
   "source": [
    "portfolio_size = input(\"Enter the value of your portfolio:\")\n",
    "\n",
    "try:\n",
    "    val = float(portfolio_size)\n",
    "except ValueError:\n",
    "    print(\"That's not a number! \\n Try again:\")\n",
    "    portfolio_size = input(\"Enter the value of your portfolio:\")"
   ]
  },
  {
   "cell_type": "code",
   "execution_count": 43,
   "metadata": {},
   "outputs": [
    {
     "data": {
      "text/html": [
       "<div>\n",
       "<style scoped>\n",
       "    .dataframe tbody tr th:only-of-type {\n",
       "        vertical-align: middle;\n",
       "    }\n",
       "\n",
       "    .dataframe tbody tr th {\n",
       "        vertical-align: top;\n",
       "    }\n",
       "\n",
       "    .dataframe thead th {\n",
       "        text-align: right;\n",
       "    }\n",
       "</style>\n",
       "<table border=\"1\" class=\"dataframe\">\n",
       "  <thead>\n",
       "    <tr style=\"text-align: right;\">\n",
       "      <th></th>\n",
       "      <th>Ticker</th>\n",
       "      <th>Price</th>\n",
       "      <th>Market Capitalization</th>\n",
       "      <th>Number Of Shares to Buy</th>\n",
       "    </tr>\n",
       "  </thead>\n",
       "  <tbody>\n",
       "    <tr>\n",
       "      <th>0</th>\n",
       "      <td>A</td>\n",
       "      <td>125.590</td>\n",
       "      <td>37677390127</td>\n",
       "      <td>76</td>\n",
       "    </tr>\n",
       "    <tr>\n",
       "      <th>1</th>\n",
       "      <td>AAL</td>\n",
       "      <td>25.153</td>\n",
       "      <td>16766776851</td>\n",
       "      <td>384</td>\n",
       "    </tr>\n",
       "    <tr>\n",
       "      <th>2</th>\n",
       "      <td>AAP</td>\n",
       "      <td>182.310</td>\n",
       "      <td>12437224197</td>\n",
       "      <td>53</td>\n",
       "    </tr>\n",
       "    <tr>\n",
       "      <th>3</th>\n",
       "      <td>AAPL</td>\n",
       "      <td>129.308</td>\n",
       "      <td>2143081219051</td>\n",
       "      <td>74</td>\n",
       "    </tr>\n",
       "    <tr>\n",
       "      <th>4</th>\n",
       "      <td>ABBV</td>\n",
       "      <td>105.750</td>\n",
       "      <td>190163575494</td>\n",
       "      <td>91</td>\n",
       "    </tr>\n",
       "    <tr>\n",
       "      <th>...</th>\n",
       "      <td>...</td>\n",
       "      <td>...</td>\n",
       "      <td>...</td>\n",
       "      <td>...</td>\n",
       "    </tr>\n",
       "    <tr>\n",
       "      <th>500</th>\n",
       "      <td>YUM</td>\n",
       "      <td>112.270</td>\n",
       "      <td>33478980633</td>\n",
       "      <td>86</td>\n",
       "    </tr>\n",
       "    <tr>\n",
       "      <th>501</th>\n",
       "      <td>ZBH</td>\n",
       "      <td>167.170</td>\n",
       "      <td>33893555650</td>\n",
       "      <td>57</td>\n",
       "    </tr>\n",
       "    <tr>\n",
       "      <th>502</th>\n",
       "      <td>ZBRA</td>\n",
       "      <td>489.195</td>\n",
       "      <td>26247391988</td>\n",
       "      <td>19</td>\n",
       "    </tr>\n",
       "    <tr>\n",
       "      <th>503</th>\n",
       "      <td>ZION</td>\n",
       "      <td>57.880</td>\n",
       "      <td>9402929393</td>\n",
       "      <td>167</td>\n",
       "    </tr>\n",
       "    <tr>\n",
       "      <th>504</th>\n",
       "      <td>ZTS</td>\n",
       "      <td>162.740</td>\n",
       "      <td>75519377266</td>\n",
       "      <td>N/A</td>\n",
       "    </tr>\n",
       "  </tbody>\n",
       "</table>\n",
       "<p>505 rows × 4 columns</p>\n",
       "</div>"
      ],
      "text/plain": [
       "    Ticker    Price Market Capitalization Number Of Shares to Buy\n",
       "0        A  125.590           37677390127                      76\n",
       "1      AAL   25.153           16766776851                     384\n",
       "2      AAP  182.310           12437224197                      53\n",
       "3     AAPL  129.308         2143081219051                      74\n",
       "4     ABBV  105.750          190163575494                      91\n",
       "..     ...      ...                   ...                     ...\n",
       "500    YUM  112.270           33478980633                      86\n",
       "501    ZBH  167.170           33893555650                      57\n",
       "502   ZBRA  489.195           26247391988                      19\n",
       "503   ZION   57.880            9402929393                     167\n",
       "504    ZTS  162.740           75519377266                     N/A\n",
       "\n",
       "[505 rows x 4 columns]"
      ]
     },
     "execution_count": 43,
     "metadata": {},
     "output_type": "execute_result"
    }
   ],
   "source": [
    "position_size = float(portfolio_size) / len(final_dataframe.index)\n",
    "for i in range(0, len(final_dataframe['Ticker'])-1):\n",
    "    final_dataframe.loc[i, 'Number Of Shares to Buy'] = math.floor(position_size / final_dataframe['Price'][i])\n",
    "final_dataframe"
   ]
  },
  {
   "cell_type": "markdown",
   "metadata": {},
   "source": [
    "## Formatting Our Excel Output\n",
    "\n",
    "We will be using the XlsxWriter library for Python to create nicely-formatted Excel files.\n",
    "\n",
    "XlsxWriter is an excellent package and offers tons of customization. However, the tradeoff for this is that the library can seem very complicated to new users. Accordingly, this section will be fairly long because I want to do a good job of explaining how XlsxWriter works.\n",
    "\n",
    "### Initializing our XlsxWriter Object"
   ]
  },
  {
   "cell_type": "code",
   "execution_count": null,
   "metadata": {},
   "outputs": [],
   "source": []
  },
  {
   "cell_type": "markdown",
   "metadata": {},
   "source": [
    "### Creating the Formats We'll Need For Our `.xlsx` File\n",
    "\n",
    "Formats include colors, fonts, and also symbols like `%` and `$`. We'll need four main formats for our Excel document:\n",
    "* String format for tickers\n",
    "* \\\\$XX.XX format for stock prices\n",
    "* \\\\$XX,XXX format for market capitalization\n",
    "* Integer format for the number of shares to purchase"
   ]
  },
  {
   "cell_type": "code",
   "execution_count": null,
   "metadata": {},
   "outputs": [],
   "source": []
  },
  {
   "cell_type": "markdown",
   "metadata": {},
   "source": [
    "### Applying the Formats to the Columns of Our `.xlsx` File\n",
    "\n",
    "We can use the `set_column` method applied to the `writer.sheets['Recommended Trades']` object to apply formats to specific columns of our spreadsheets.\n",
    "\n",
    "Here's an example:\n",
    "\n",
    "```python\n",
    "writer.sheets['Recommended Trades'].set_column('B:B', #This tells the method to apply the format to column B\n",
    "                     18, #This tells the method to apply a column width of 18 pixels\n",
    "                     string_template #This applies the format 'string_template' to the column\n",
    "                    )\n",
    "```"
   ]
  },
  {
   "cell_type": "code",
   "execution_count": null,
   "metadata": {},
   "outputs": [],
   "source": []
  },
  {
   "cell_type": "markdown",
   "metadata": {},
   "source": [
    "This code works, but it violates the software principle of \"Don't Repeat Yourself\". \n",
    "\n",
    "Let's simplify this by putting it in 2 loops:"
   ]
  },
  {
   "cell_type": "code",
   "execution_count": null,
   "metadata": {},
   "outputs": [],
   "source": []
  },
  {
   "cell_type": "markdown",
   "metadata": {},
   "source": [
    "## Saving Our Excel Output\n",
    "\n",
    "Saving our Excel file is very easy:"
   ]
  },
  {
   "cell_type": "code",
   "execution_count": null,
   "metadata": {},
   "outputs": [],
   "source": []
  }
 ],
 "metadata": {
  "kernelspec": {
   "display_name": "Python 3",
   "language": "python",
   "name": "python3"
  },
  "language_info": {
   "codemirror_mode": {
    "name": "ipython",
    "version": 3
   },
   "file_extension": ".py",
   "mimetype": "text/x-python",
   "name": "python",
   "nbconvert_exporter": "python",
   "pygments_lexer": "ipython3",
   "version": "3.8.5"
  }
 },
 "nbformat": 4,
 "nbformat_minor": 4
}
